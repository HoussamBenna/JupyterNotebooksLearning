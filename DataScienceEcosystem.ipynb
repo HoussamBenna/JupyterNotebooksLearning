{
 "cells": [
  {
   "cell_type": "markdown",
   "id": "abdd8050-4fa7-46d4-bbd9-bd818e50260d",
   "metadata": {},
   "source": [
    "# Data Science Tools and Ecosystem"
   ]
  },
  {
   "attachments": {},
   "cell_type": "markdown",
   "id": "39adcdc1-a2a8-4eed-b50f-e21b08151b73",
   "metadata": {},
   "source": [
    "This notebook will include an overview of some Data Science Tools and Ecosystem."
   ]
  },
  {
   "cell_type": "markdown",
   "id": "d8416987-7f0c-457d-abdd-5bd040541d71",
   "metadata": {},
   "source": [
    "In Data Science, some of the most popular languages are as follows:\n",
    "1. R\n",
    "2. Python\n",
    "3. SQL"
   ]
  },
  {
   "cell_type": "markdown",
   "id": "c606f1bf-7dd2-4b94-a6cc-04b1f96e241d",
   "metadata": {},
   "source": [
    "In Data Science, some of the most commonly used libraries are:\n",
    "1. Pandas\n",
    "2. TensorFlow\n",
    "3. ggplot 2"
   ]
  },
  {
   "cell_type": "markdown",
   "id": "8b4f2092-e59c-4ad2-b3ce-aca721011a1e",
   "metadata": {},
   "source": [
    "|Data Science Tools|\n",
    "|-----------------|\n",
    "|Apache Airflow|\n",
    "|Jupyter Notebooks|\n",
    "|RStudio|"
   ]
  },
  {
   "cell_type": "markdown",
   "id": "71082070-2fd9-4cb5-ab9f-7594e566b582",
   "metadata": {},
   "source": [
    "### A few examples of Python arithmetic expressions below:"
   ]
  },
  {
   "cell_type": "code",
   "execution_count": 2,
   "id": "bd6ded17-292d-4b58-a76f-3d05ec4463ac",
   "metadata": {},
   "outputs": [
    {
     "data": {
      "text/plain": [
       "17"
      ]
     },
     "execution_count": 2,
     "metadata": {},
     "output_type": "execute_result"
    }
   ],
   "source": [
    "# This is a basic arithmetic expression. that includes multiplication and addition of an integers\n",
    "(3*4)+5"
   ]
  },
  {
   "cell_type": "code",
   "execution_count": 6,
   "id": "271ba852-2056-405b-af60-f993d03c13fa",
   "metadata": {},
   "outputs": [
    {
     "name": "stdout",
     "output_type": "stream",
     "text": [
      "3.3333333333333335\n"
     ]
    }
   ],
   "source": [
    "# Below is an example of a minutes to hours conversion code.\n",
    "minutes = 200\n",
    "hours = minutes / 60\n",
    "print(hours)"
   ]
  },
  {
   "cell_type": "markdown",
   "id": "55911a67-a94b-4d01-98fe-556628100135",
   "metadata": {},
   "source": [
    "**Objectives:**\n",
    "\n",
    "- Popular languages for Data Science  \n",
    "- Common data science libraries\n",
    "- Common data science environment tools\n",
    "- Arithmetic and conversion expressions."
   ]
  },
  {
   "cell_type": "markdown",
   "id": "16b142f9-bba0-4c31-a9b1-7c2bb0831b2b",
   "metadata": {},
   "source": [
    "## Author  \n",
    "Houssam Benna\n"
   ]
  },
  {
   "cell_type": "code",
   "execution_count": null,
   "id": "08b0ef4b-1aa1-4aa5-96d9-d3e591f44aa1",
   "metadata": {},
   "outputs": [],
   "source": []
  }
 ],
 "metadata": {
  "kernelspec": {
   "display_name": "Python 3 (ipykernel)",
   "language": "python",
   "name": "python3"
  },
  "language_info": {
   "codemirror_mode": {
    "name": "ipython",
    "version": 3
   },
   "file_extension": ".py",
   "mimetype": "text/x-python",
   "name": "python",
   "nbconvert_exporter": "python",
   "pygments_lexer": "ipython3",
   "version": "3.12.8"
  }
 },
 "nbformat": 4,
 "nbformat_minor": 5
}
